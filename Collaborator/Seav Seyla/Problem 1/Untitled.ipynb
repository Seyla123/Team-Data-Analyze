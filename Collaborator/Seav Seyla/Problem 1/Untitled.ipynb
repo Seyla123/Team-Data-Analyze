{
 "cells": [
  {
   "cell_type": "code",
   "execution_count": 1,
   "id": "322f8831",
   "metadata": {},
   "outputs": [
    {
     "name": "stdout",
     "output_type": "stream",
     "text": [
      "CSV file 'sales_data_1000.csv' with 1000 rows has been saved.\n"
     ]
    }
   ],
   "source": [
    "import pandas as pd\n",
    "import numpy as np\n",
    "\n",
    "# Generate synthetic sales data\n",
    "np.random.seed(42)\n",
    "n_transactions = 1000\n",
    "sales_data = {\n",
    "    'Transaction ID': range(1, n_transactions + 1),\n",
    "    'Date': pd.date_range(start='2023-01-01', periods=n_transactions),\n",
    "    'Product Category': np.random.choice(['Electronics', 'Clothing', 'Books'], size=n_transactions),\n",
    "    'Sales Amount': np.random.normal(loc=100, scale=20, size=n_transactions),\n",
    "    'Customer Age': np.random.randint(20, 60, size=n_transactions),\n",
    "    'Customer Gender': np.random.choice(['Male', 'Female'], size=n_transactions)\n",
    "}\n",
    "\n",
    "# Create DataFrame\n",
    "df = pd.DataFrame(sales_data)\n",
    "\n",
    "# Save DataFrame to CSV\n",
    "df.to_csv('sales_data_1000.csv', index=False)\n",
    "\n",
    "print(\"CSV file 'sales_data_1000.csv' with 1000 rows has been saved.\")\n"
   ]
  },
  {
   "cell_type": "code",
   "execution_count": null,
   "id": "4d06e768",
   "metadata": {},
   "outputs": [],
   "source": []
  }
 ],
 "metadata": {
  "kernelspec": {
   "display_name": "Python 3 (ipykernel)",
   "language": "python",
   "name": "python3"
  },
  "language_info": {
   "codemirror_mode": {
    "name": "ipython",
    "version": 3
   },
   "file_extension": ".py",
   "mimetype": "text/x-python",
   "name": "python",
   "nbconvert_exporter": "python",
   "pygments_lexer": "ipython3",
   "version": "3.11.5"
  }
 },
 "nbformat": 4,
 "nbformat_minor": 5
}
