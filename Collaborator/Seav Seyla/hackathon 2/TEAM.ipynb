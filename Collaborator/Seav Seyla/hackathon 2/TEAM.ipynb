{
 "cells": [
  {
   "cell_type": "markdown",
   "id": "88f51af3-a8fe-4992-8609-6ce135c05b0b",
   "metadata": {},
   "source": [
    "### 1. LOAD NECESSARY LIBRARY "
   ]
  },
  {
   "cell_type": "code",
   "execution_count": 1,
   "id": "d4946eec-246f-487e-b9e5-44191ef012b2",
   "metadata": {},
   "outputs": [],
   "source": [
    "import pandas as pd\n",
    "import numpy as np\n",
    "import matplotlib.pyplot as plt\n",
    "import seaborn as sns"
   ]
  },
  {
   "cell_type": "code",
   "execution_count": 2,
   "id": "bcda6161-89f3-48ab-8769-983a2cbdc3b6",
   "metadata": {},
   "outputs": [],
   "source": [
    "cpi = 'CPI.csv' # Consumer price index\n",
    "eci = 'ECI.csv' #  Employment cost index\n",
    "csi = 'CONSUMER-SENTIMENT-INDEX.csv' # Consumer sentiment index\n",
    "gpd = 'GPD-PRICE-DEFLATOR.csv' # Price deflator\n",
    "ipd = 'IMPORT-PRICE-INDEX.csv' # Import price index\n",
    "op = 'OIL-PRICE.csv' # WPI oil prices\n",
    "pce = 'PCE.csv' # Personal consumption expenditures\n",
    "ppi = 'PPI.csv' # Producer price index\n",
    "wg = 'WAGE-GROWTH.csv' # Wage growth\n",
    "# unrate = 'UNRATE.csv' # Unemploment rate"
   ]
  },
  {
   "cell_type": "code",
   "execution_count": 3,
   "id": "58d820b8-f41c-4bd7-bab7-3da5ecb46008",
   "metadata": {},
   "outputs": [],
   "source": [
    "df_cpi = pd.read_csv(cpi, index_col='DATE', parse_dates=True)\n",
    "df_eci = pd.read_csv(eci, index_col='DATE', parse_dates=True)\n",
    "df_csi = pd.read_csv(csi)\n",
    "df_gpd = pd.read_csv(ipd, index_col='DATE', parse_dates=True)\n",
    "df_op = pd.read_csv(op, index_col='DATE', parse_dates=True)\n",
    "df_pce = pd.read_csv(pce, index_col='DATE', parse_dates=True)\n",
    "df_ppi = pd.read_csv(ppi, index_col='DATE', parse_dates=True)\n",
    "df_wg = pd.read_csv(wg, index_col='DATE', parse_dates=True)\n",
    "# df_unemply = pd.read_csv(unrate, index_col='DATE', parse_dates=True)"
   ]
  },
  {
   "cell_type": "markdown",
   "id": "6a5073c5-12a4-48ba-9af8-72b77f0670f0",
   "metadata": {},
   "source": [
    "### 2. DATA EXPLORATION"
   ]
  },
  {
   "cell_type": "code",
   "execution_count": 4,
   "id": "c0718e1c-4bb6-40dd-a540-600d32ebf242",
   "metadata": {},
   "outputs": [],
   "source": [
    "def check_outliers(df, col):\n",
    "    Q1 = df[col].quantile(0.25)\n",
    "    Q3 = df[col].quantile(0.75)\n",
    "    IQR = Q3 - Q1\n",
    "    return df[(df[col] > Q3 + 1.5 * IQR) | (df[col] < Q1 - 1.5 * (IQR))]"
   ]
  },
  {
   "cell_type": "code",
   "execution_count": 5,
   "id": "95aed536-4284-444b-9c7c-207a1c6f6322",
   "metadata": {},
   "outputs": [
    {
     "ename": "NameError",
     "evalue": "name 'df_unemply' is not defined",
     "output_type": "error",
     "traceback": [
      "\u001b[0;31m---------------------------------------------------------------------------\u001b[0m",
      "\u001b[0;31mNameError\u001b[0m                                 Traceback (most recent call last)",
      "Cell \u001b[0;32mIn[5], line 1\u001b[0m\n\u001b[0;32m----> 1\u001b[0m df_unemply\n",
      "\u001b[0;31mNameError\u001b[0m: name 'df_unemply' is not defined"
     ]
    }
   ],
   "source": [
    "df_unemply"
   ]
  },
  {
   "cell_type": "code",
   "execution_count": null,
   "id": "77876294-a5b7-4242-a125-5b13a1831e23",
   "metadata": {},
   "outputs": [],
   "source": [
    "dfs = [df_eci, df_gpd, df_op, df_pce, df_ppi, df_wg, df_csi, df_cpi]"
   ]
  },
  {
   "cell_type": "code",
   "execution_count": null,
   "id": "f67e7474",
   "metadata": {},
   "outputs": [],
   "source": [
    "df"
   ]
  },
  {
   "cell_type": "code",
   "execution_count": null,
   "id": "82cf3ca8-cae1-4cd2-84dc-de5278a16875",
   "metadata": {},
   "outputs": [],
   "source": [
    "for df in dfs:\n",
    "    for column in df.columns:\n",
    "        df[column].replace('.', np.nan, inplace=True)"
   ]
  },
  {
   "cell_type": "code",
   "execution_count": null,
   "id": "a2e27000-a026-4841-adb6-822e157b43d7",
   "metadata": {},
   "outputs": [],
   "source": [
    "for df in dfs:\n",
    "    for column in df.columns:\n",
    "        print(column.upper())\n",
    "        print(df[column].isnull().sum())\n",
    "        print('*' * 130)\n",
    "        print()"
   ]
  },
  {
   "cell_type": "code",
   "execution_count": null,
   "id": "c1b757c6-f574-4e9b-90a8-47a96a17dcc7",
   "metadata": {},
   "outputs": [],
   "source": [
    "df_gpd.dropna(inplace=True)"
   ]
  },
  {
   "cell_type": "code",
   "execution_count": null,
   "id": "6901c67a-0936-4930-8f32-4a7a834dc662",
   "metadata": {},
   "outputs": [],
   "source": [
    "df_wg.dropna(inplace=True)"
   ]
  },
  {
   "cell_type": "code",
   "execution_count": null,
   "id": "772b2e5f-72f1-43d0-b63d-2a5f1fa4935c",
   "metadata": {},
   "outputs": [],
   "source": [
    "df_csi.drop('Table 1: The Index of Consumer Sentiment', axis = 1, inplace=True)"
   ]
  },
  {
   "cell_type": "code",
   "execution_count": null,
   "id": "c7ea3e68-75f1-498b-a198-080f401e1ad3",
   "metadata": {},
   "outputs": [],
   "source": [
    "df_csi"
   ]
  },
  {
   "cell_type": "code",
   "execution_count": null,
   "id": "b1bdef68-3f63-4c89-8d98-9d5da888a7f9",
   "metadata": {},
   "outputs": [],
   "source": [
    "df_csi.reset_index(inplace=True)"
   ]
  },
  {
   "cell_type": "code",
   "execution_count": null,
   "id": "6eb0cc0f-2b13-4cff-8277-972f26c896c8",
   "metadata": {},
   "outputs": [],
   "source": [
    "df_csi"
   ]
  },
  {
   "cell_type": "code",
   "execution_count": null,
   "id": "f1cdab85-e43a-4c14-bef3-e309b515704e",
   "metadata": {},
   "outputs": [],
   "source": [
    "# Combine the columns into a single datetime column\n",
    "df_csi['Date'] = pd.to_datetime(df_csi['level_1'] + '-' + df_csi['level_0'] + '-01', errors='coerce')"
   ]
  },
  {
   "cell_type": "code",
   "execution_count": null,
   "id": "5c65ebdd-fe20-4ee4-a63b-2b99e788fce4",
   "metadata": {},
   "outputs": [],
   "source": [
    "df_csi.dropna(inplace=True)"
   ]
  },
  {
   "cell_type": "code",
   "execution_count": null,
   "id": "b5611df6-1333-45a8-8974-964c4a22e208",
   "metadata": {},
   "outputs": [],
   "source": [
    "df_csi.drop(['level_0', 'level_1'], axis = 1, inplace=True)"
   ]
  },
  {
   "cell_type": "code",
   "execution_count": null,
   "id": "3d80f071-d64b-44bd-8a27-66dfdbcd7324",
   "metadata": {},
   "outputs": [],
   "source": [
    "df_csi.columns = ['csi', 'DATE']"
   ]
  },
  {
   "cell_type": "code",
   "execution_count": null,
   "id": "215b9f98-dc1b-4daf-865e-dc618702b6db",
   "metadata": {},
   "outputs": [],
   "source": [
    "df_csi = df_csi[['DATE', 'csi']]"
   ]
  },
  {
   "cell_type": "code",
   "execution_count": null,
   "id": "7f982949-7e11-4a31-8015-951cbc568ca2",
   "metadata": {},
   "outputs": [],
   "source": [
    "df_csi"
   ]
  },
  {
   "cell_type": "code",
   "execution_count": null,
   "id": "ed4f8074-f620-42e9-aafa-852f7c715eca",
   "metadata": {},
   "outputs": [],
   "source": [
    "df_csi.set_index(df_csi['DATE'], inplace=True)"
   ]
  },
  {
   "cell_type": "code",
   "execution_count": null,
   "id": "d89fd38c-e3a9-4fa6-9985-453d81159363",
   "metadata": {},
   "outputs": [],
   "source": [
    "df = df_eci.join(df_gpd).join(df_op).join(df_pce).join(df_ppi).join(df_wg).join(df_csi).join(df_cpi)"
   ]
  },
  {
   "cell_type": "code",
   "execution_count": null,
   "id": "d7ce81db",
   "metadata": {},
   "outputs": [],
   "source": [
    "df"
   ]
  },
  {
   "cell_type": "code",
   "execution_count": null,
   "id": "d450998b-429c-43cb-b125-7e0fb22365d3",
   "metadata": {},
   "outputs": [],
   "source": [
    "df.drop('DATE', axis=1, inplace=True)"
   ]
  },
  {
   "cell_type": "code",
   "execution_count": null,
   "id": "5802c265-9eeb-42bb-a652-e957a0df5359",
   "metadata": {},
   "outputs": [],
   "source": [
    "df.columns = ['eci', 'price_deflator', 'oil_price', 'pce', 'ppi', 'unemployment_rate', 'wage_growth', 'csi', 'cpi']"
   ]
  },
  {
   "cell_type": "markdown",
   "id": "6028841d-5f45-4d23-91c0-c6c65bc4391e",
   "metadata": {},
   "source": [
    "### 2. STATISTICAL ANALYSIS AND DATA CLEANING AND EXPLORATION"
   ]
  },
  {
   "cell_type": "code",
   "execution_count": null,
   "id": "00915ffd-0693-4b3b-9952-d9de9241f551",
   "metadata": {},
   "outputs": [],
   "source": [
    "df.head()"
   ]
  },
  {
   "cell_type": "code",
   "execution_count": null,
   "id": "0419648f-333e-47ec-a1a8-0b26aef404bd",
   "metadata": {},
   "outputs": [],
   "source": [
    "df.dtypes"
   ]
  },
  {
   "cell_type": "code",
   "execution_count": null,
   "id": "e737c3a4-d9a6-41d3-ad0c-66820a55bc6b",
   "metadata": {},
   "outputs": [],
   "source": [
    "for column in df.columns:\n",
    "    if df[column].dtype == 'object':\n",
    "        df[column] = df[column].astype('float64')"
   ]
  },
  {
   "cell_type": "code",
   "execution_count": null,
   "id": "dbfb64e1-b8f0-4ad6-b0e3-6edae2bddc65",
   "metadata": {},
   "outputs": [],
   "source": [
    "for column in df.columns:\n",
    "    print(column.upper())\n",
    "    print(check_outliers(df, column)[column])\n",
    "    print(len(check_outliers(df, column)))\n",
    "    print('*' * 150)\n",
    "    print()"
   ]
  },
  {
   "cell_type": "raw",
   "id": "c3b0ddca-21ab-4a2b-936e-ada215f8ce8d",
   "metadata": {},
   "source": [
    ">> UNEMPLOMENT RATE has 4 outliers; WAGE GROWTH has 6; and PPI has 4. LETS FURTHER CHECK THEM.."
   ]
  },
  {
   "cell_type": "code",
   "execution_count": null,
   "id": "77946ebd-2930-404b-b82b-3c91587fe76e",
   "metadata": {},
   "outputs": [],
   "source": [
    "check_outliers(df, 'unemployment_rate')"
   ]
  },
  {
   "cell_type": "code",
   "execution_count": null,
   "id": "78ddc405-3f77-4ae5-86c8-7434252ae74f",
   "metadata": {},
   "outputs": [],
   "source": [
    "check_outliers(df, 'ppi')"
   ]
  },
  {
   "cell_type": "code",
   "execution_count": null,
   "id": "88ec2215-a877-4336-a22b-6bd438fe2cf1",
   "metadata": {},
   "outputs": [],
   "source": [
    "check_outliers(df, 'wage_growth')"
   ]
  },
  {
   "cell_type": "raw",
   "id": "24b08296-aa4d-4000-8110-a8950981cca7",
   "metadata": {},
   "source": [
    ">> THOSE OUTLIERS DOES REFLECT REAL LIFE DATA, SO I WILL NOT DROP THEM"
   ]
  },
  {
   "cell_type": "code",
   "execution_count": null,
   "id": "2b6170ce-a4f8-442b-af26-169db0053004",
   "metadata": {},
   "outputs": [],
   "source": [
    "df.columns"
   ]
  },
  {
   "cell_type": "code",
   "execution_count": null,
   "id": "bb01cd25-542d-4bc6-9aee-12b2af2536be",
   "metadata": {},
   "outputs": [],
   "source": [
    "for column in df.columns:\n",
    "    plt.figure(figsize=(16, 8))\n",
    "    sns.histplot(df[column])\n",
    "    plt.plot()"
   ]
  },
  {
   "cell_type": "code",
   "execution_count": null,
   "id": "ae438249-3666-4f94-82c0-84db37f8b34e",
   "metadata": {},
   "outputs": [],
   "source": [
    "from scipy.stats import skew, kurtosis"
   ]
  },
  {
   "cell_type": "code",
   "execution_count": null,
   "id": "0cfc8cd3-5d5b-47ac-9214-64ffc6db93b6",
   "metadata": {},
   "outputs": [],
   "source": [
    "# check skewness and kurtosis\n",
    "from scipy.stats import skew, kurtosis\n",
    "\n",
    "def check_skewedness(df, col):\n",
    "    print(col.upper())\n",
    "    print(skew(df[col]))\n",
    "    if (skew(df[col]) < 0.5) and (skew(df[col]) > -0.5):\n",
    "        print('Normal distribution.')\n",
    "    elif skew(df[col]) > 0.5:\n",
    "        print('Right skewed detected!')\n",
    "    else:\n",
    "        print('Left skewed detected!')\n",
    "    print('*' * 100)\n",
    "\n",
    "def check_kurtosis(df, col):\n",
    "    print(col.upper())\n",
    "    print(kurtosis(df[col]))\n",
    "    if kurtosis(df[col]) == 3:\n",
    "        print('Normal distribution.')\n",
    "    else:\n",
    "        print('Possible outliers detected! XXXXXXXXXXXXXXXXX')"
   ]
  },
  {
   "cell_type": "code",
   "execution_count": null,
   "id": "2f81e013-2cea-487c-92e4-566bd1d8dafd",
   "metadata": {},
   "outputs": [],
   "source": [
    "# check all the skewedness value and kurtosis values:\n",
    "for column in df.columns:\n",
    "    check_skewedness(df, column)\n",
    "    print()\n",
    "    check_kurtosis(df, column)"
   ]
  },
  {
   "cell_type": "code",
   "execution_count": null,
   "id": "7813b4c0-c04a-4abc-a65b-59f365454568",
   "metadata": {},
   "outputs": [],
   "source": [
    "for column in df.columns:\n",
    "    plt.figure(figsize=(16, 8))\n",
    "    sns.boxplot(df[column])\n",
    "    plt.plot()"
   ]
  },
  {
   "cell_type": "markdown",
   "id": "60e868e9-9ab3-4c1e-b18c-2d4bae1bf5d3",
   "metadata": {},
   "source": [
    "### 3. DIVIDE THE DF INTO ONE QUATERLY DATAFRAME AND ONE YEARLY DATAFRAME AND NORMALIZATION"
   ]
  },
  {
   "cell_type": "code",
   "execution_count": null,
   "id": "4c7a4373-3840-4426-a10c-3c5d47c2f496",
   "metadata": {},
   "outputs": [],
   "source": [
    "df.head(10)"
   ]
  },
  {
   "cell_type": "code",
   "execution_count": null,
   "id": "ecebdb0e-885e-4b7d-8e54-1632e6942307",
   "metadata": {},
   "outputs": [],
   "source": [
    "df_yearly = df.resample('Y').mean()"
   ]
  },
  {
   "cell_type": "code",
   "execution_count": null,
   "id": "27637a94-2381-4e9c-94be-e60388ec959c",
   "metadata": {},
   "outputs": [],
   "source": [
    "df_yearly.plot(figsize=(16, 8))"
   ]
  },
  {
   "cell_type": "code",
   "execution_count": null,
   "id": "20cfb4fa-82d3-4834-a02c-39f2a0a8fb6c",
   "metadata": {},
   "outputs": [],
   "source": [
    "df_yearly[['eci', 'price_deflator', 'oil_price', 'ppi', 'unemployment_rate', 'wage_growth', 'csi', 'cpi']].plot()"
   ]
  },
  {
   "cell_type": "code",
   "execution_count": null,
   "id": "0314eeaa-02b4-4bd5-b2f7-e940ee77daa8",
   "metadata": {},
   "outputs": [],
   "source": [
    "df_yearly.corr()"
   ]
  },
  {
   "cell_type": "code",
   "execution_count": null,
   "id": "80745cc6-c9c8-4c1f-b2cd-4261066f748c",
   "metadata": {},
   "outputs": [],
   "source": [
    "cpi_line = df_yearly.cpi"
   ]
  },
  {
   "cell_type": "code",
   "execution_count": null,
   "id": "8dae812c-8e3c-464d-9cd1-6cd7e251ec3b",
   "metadata": {},
   "outputs": [],
   "source": [
    "for column in df_yearly.columns:\n",
    "    plt.figure(figsize=(16, 8))\n",
    "    plt.plot(df_yearly[column], label=column.upper())\n",
    "    plt.plot(cpi_line, label='CPI')\n",
    "    plt.xlabel('TIME')\n",
    "    plt.legend()\n",
    "    plt.tight_layout()\n",
    "    plt.show()"
   ]
  },
  {
   "cell_type": "code",
   "execution_count": null,
   "id": "4e44ce12-8887-43d5-a843-342f0dc51128",
   "metadata": {},
   "outputs": [],
   "source": [
    "for column in df_yearly.columns:\n",
    "    plt.figure(figsize=(16, 8))\n",
    "    sns.scatterplot(data=df_yearly, x = df_yearly[column], y = cpi_line, legend=True, s = 100, palette={'A':'red', 'B': 'blue'})\n",
    "    plt.title(f\"{column.upper()} vs. CPI\", fontsize=16)\n",
    "    plt.tight_layout()\n",
    "    plt.show()"
   ]
  },
  {
   "cell_type": "code",
   "execution_count": null,
   "id": "6cc4f4e7-68d8-41c7-8f4f-a0505dd0e99c",
   "metadata": {},
   "outputs": [],
   "source": [
    "for column in df_yearly.columns:\n",
    "    plt.figure(figsize=(16, 8))\n",
    "    sns.regplot(data=df_yearly, x = df_yearly[column], y = csi_line)\n",
    "    plt.tight_layout()\n",
    "    plt.show()"
   ]
  },
  {
   "cell_type": "code",
   "execution_count": null,
   "id": "de24c0dd-5270-4e8b-8784-f1599e997a9a",
   "metadata": {},
   "outputs": [],
   "source": [
    "df_yearly.corr()"
   ]
  },
  {
   "cell_type": "code",
   "execution_count": null,
   "id": "36f53a1f-ce5a-4a69-9e57-afed8b7f2079",
   "metadata": {},
   "outputs": [],
   "source": [
    "from scipy.stats import pearsonr"
   ]
  },
  {
   "cell_type": "code",
   "execution_count": null,
   "id": "0cced93f-b96b-4915-8852-b9f057147312",
   "metadata": {},
   "outputs": [],
   "source": [
    "def find_pearsonr(df, col1, col2):\n",
    "    result = pearsonr(df[col1], df[col2])\n",
    "    print(f\"The correlation coef between {col1.upper()} and {col2.upper()} is {result[0]}\")\n",
    "    print(f\"The p-value between the {col1.upper()} and {col2.upper()} is {result[1]}\")\n",
    "    if result[1] > 0.05:\n",
    "        print('It is too big. You cannot reject the null hypothesis! Therefore, no correlation!')\n",
    "    else:\n",
    "        print('There is indeed correlation between the two since p-value is too small.')\n",
    "    print('*' * 100)\n",
    "    print()"
   ]
  },
  {
   "cell_type": "code",
   "execution_count": null,
   "id": "eed36e17-7ec3-4b08-bcf1-edc05e8dd2cd",
   "metadata": {},
   "outputs": [],
   "source": [
    "for column in df_yearly.columns:\n",
    "    find_pearsonr(df_yearly, column, 'cpi')"
   ]
  },
  {
   "cell_type": "raw",
   "id": "cd305451-19c6-416b-93cf-86ac206b7737",
   "metadata": {},
   "source": [
    ">> From the pearsonr statistical analysis above we can see that ECI, PRICE DEFLATOR, OIL PRICE PCE AND PPI HAVE A CORRELATION WITH CPI"
   ]
  },
  {
   "cell_type": "markdown",
   "id": "1a143be5-7e0a-4f8e-85fe-d915a90d340b",
   "metadata": {},
   "source": [
    "### CAN WE PREDICT WHEN INFLATION STARTS AND ENDS?"
   ]
  },
  {
   "cell_type": "raw",
   "id": "fe6f4215-a872-4aec-a629-79ad0727996b",
   "metadata": {},
   "source": [
    ">> IN ECONOMIC TERM, INFLATION < 2.5% CAN BE CONSIDERED STABILITY OF PRICE, INFLATION RATE > 2.5% CAN BE CONSIDERED A PERIOD OF INFLATION"
   ]
  },
  {
   "cell_type": "code",
   "execution_count": null,
   "id": "88f05e6f-dd79-4384-95f5-4f9bedbb9f17",
   "metadata": {},
   "outputs": [],
   "source": [
    "df_yearly_2020 = df_yearly[df_yearly.index.year >= 2020]"
   ]
  },
  {
   "cell_type": "code",
   "execution_count": null,
   "id": "1010a095-3faf-4596-ac06-141fd555832f",
   "metadata": {},
   "outputs": [],
   "source": [
    "df_yearly_2020"
   ]
  },
  {
   "cell_type": "raw",
   "id": "4666df5e-3659-498b-b33d-1a8914d557d7",
   "metadata": {},
   "source": [
    ">> LETS CALCULATE INFLATION"
   ]
  },
  {
   "cell_type": "code",
   "execution_count": null,
   "id": "da47715b-203d-47fc-96f2-0ed341f8227a",
   "metadata": {},
   "outputs": [],
   "source": [
    "df_yearly_2020['inflation'] = df_yearly_2020['cpi'].diff() / df_yearly_2020['cpi'].shift(1) * 100"
   ]
  },
  {
   "cell_type": "code",
   "execution_count": null,
   "id": "d69bf5e5-57e9-48d4-9aa0-ed3a6d52c038",
   "metadata": {},
   "outputs": [],
   "source": [
    "df_yearly_2020"
   ]
  },
  {
   "cell_type": "code",
   "execution_count": null,
   "id": "20d8c05b",
   "metadata": {},
   "outputs": [],
   "source": [
    "def check_inflation(df, col):\n",
    "    return df[df[col] > 2.4]\n",
    "\n",
    "inflation_periods = df_yearly_2020(df_yearly_2020, 'inflation')['inflation']\n",
    "\n",
    "start_1_index = inflation_periods.index[0]\n",
    "start_1 = inflation_periods[0]\n",
    "\n",
    "start_2_index = inflation_periods.index[1]\n",
    "start_2 = inflation_periods[1]\n",
    "\n",
    "start_3_index = inflation_periods.index[2]\n",
    "start_3 = inflation_periods[2]\n",
    "\n",
    "plt.figure(figsize=(16, 8))\n",
    "plt.plot(df_yearly_2020['inflation'], marker='o', linestyle='--')\n",
    "\n",
    "plt.annotate(text='inflationary period', xy=(start_1_index, start_1), arrowprops=dict(facecolor='black', arrowstyle='->'))\n",
    "plt.scatter(start_1_index, start_1, color='red', marker='o', s= 100)\n",
    "\n",
    "plt.annotate(text='inflationary period', xy=(start_2_index, start_2), arrowprops=dict(facecolor='black', arrowstyle='->'))\n",
    "plt.scatter(start_2_index, start_2, color='red', marker='o', s=100)\n",
    "\n",
    "plt.annotate(text='inflationary period', xy=(start_3_index, start_3))\n",
    "plt.scatter(start_3_index, start_3, color='red', marker='o', s=100)\n",
    "\n",
    "plt.plot()"
   ]
  },
  {
   "cell_type": "code",
   "execution_count": null,
   "id": "16ce09c0-2276-45d6-9ed8-eaef676471a7",
   "metadata": {},
   "outputs": [],
   "source": [
    "def check_inflation(df, col):\n",
    "    return df[df[col] > 2.4]"
   ]
  },
  {
   "cell_type": "code",
   "execution_count": null,
   "id": "9e48c135",
   "metadata": {},
   "outputs": [],
   "source": [
    "inflation_periods = df_yearly_2020(df_yearly_2020, 'inflation')['inflation']"
   ]
  },
  {
   "cell_type": "code",
   "execution_count": null,
   "id": "bf2158e5-7742-41f2-828c-33e1d8a7ae2b",
   "metadata": {},
   "outputs": [],
   "source": [
    "start_1_index = inflation_periods.index[0]\n",
    "start_1 = inflation_periods[0]"
   ]
  },
  {
   "cell_type": "code",
   "execution_count": null,
   "id": "eee2534e-d448-484b-9718-449595da00f5",
   "metadata": {},
   "outputs": [],
   "source": [
    "start_2_index = inflation_periods.index[1]\n",
    "start_2 = inflation_periods[1]"
   ]
  },
  {
   "cell_type": "code",
   "execution_count": null,
   "id": "dafc0082-c28c-4894-a665-f16aa20de6d5",
   "metadata": {},
   "outputs": [],
   "source": [
    "start_3_index = inflation_periods.index[2]\n",
    "start_3 = inflation_periods[2]"
   ]
  },
  {
   "cell_type": "code",
   "execution_count": null,
   "id": "41a34769-6b7c-431f-8236-f84ea683af60",
   "metadata": {},
   "outputs": [],
   "source": [
    "start_3_index"
   ]
  },
  {
   "cell_type": "code",
   "execution_count": null,
   "id": "eb4cd787-ec33-442a-87d9-c9cae8d2aa2f",
   "metadata": {},
   "outputs": [],
   "source": [
    "plt.figure(figsize=(16, 8))\n",
    "plt.plot(df_yearly_2020['inflation'], marker='o', linestyle='--')\n",
    "\n",
    "plt.annotate(text='inflationary period', xy=(start_1_index, start_1), arrowprops=dict(facecolor='black', arrowstyle='->'))\n",
    "plt.scatter(start_1_index, start_1, color='red', marker='o', s= 100)\n",
    "\n",
    "plt.annotate(text='inflationary period', xy=(start_2_index, start_2), arrowprops=dict(facecolor='black', arrowstyle='->'))\n",
    "plt.scatter(start_2_index, start_2, color='red', marker='o', s=100)\n",
    "\n",
    "plt.annotate(text='inflationary period', xy=(start_3_index, start_3))\n",
    "plt.scatter(start_3_index, start_3, color='red', marker='o', s=100)\n",
    "\n",
    "plt.plot()"
   ]
  },
  {
   "cell_type": "code",
   "execution_count": null,
   "id": "5d8fea52-3c44-4172-8fb5-297a4b8009a8",
   "metadata": {},
   "outputs": [],
   "source": [
    "fig, ax = plt.subplots(1, 1, figsize=(16, 8))\n",
    "\n",
    "sns.regplot(data=df_yearly_2020, x='eci', y='cpi', ax=ax)\n",
    "\n",
    "plt.show()"
   ]
  },
  {
   "cell_type": "code",
   "execution_count": null,
   "id": "adcc17b8-3e0b-4cb8-9060-96d72289e695",
   "metadata": {},
   "outputs": [],
   "source": [
    "df_yearly_2020['eci'].plot(figsize=(16, 8), label='ECI')\n",
    "df_yearly_2020['cpi'].plot(label='CPI')\n",
    "\n",
    "plt.legend()\n",
    "plt.plot()"
   ]
  },
  {
   "cell_type": "raw",
   "id": "caea44b0-4996-48f4-b5f8-6996b033a36b",
   "metadata": {},
   "source": [
    ">> SINCE WE CAN OBSERVE MORE VARIABILITY OF TREND, SEASONALITY, RESID IN QUATERLY DATA, LETS USE IT TO FORECAST INFLATION"
   ]
  },
  {
   "cell_type": "code",
   "execution_count": null,
   "id": "59243e24-c143-40f4-a3a6-7e332c1d1505",
   "metadata": {},
   "outputs": [],
   "source": [
    "df_quarterly = df.resample('Q').mean()"
   ]
  },
  {
   "cell_type": "code",
   "execution_count": null,
   "id": "dc5b59fe-797c-4147-b715-01ce9553affb",
   "metadata": {},
   "outputs": [],
   "source": [
    "df_quarterly[['price_deflator', 'oil_price', 'ppi', 'unemployment_rate', 'wage_growth', 'csi', 'cpi']].plot(figsize=(16, 8))"
   ]
  },
  {
   "cell_type": "code",
   "execution_count": null,
   "id": "93e80b3c-3f6d-421d-bae6-938b4dbd6222",
   "metadata": {},
   "outputs": [],
   "source": [
    "df_quarterly.corr()"
   ]
  },
  {
   "cell_type": "code",
   "execution_count": null,
   "id": "92a7605e-d627-47cf-800c-74fbc83fea76",
   "metadata": {},
   "outputs": [],
   "source": [
    "for column in df_quarterly.columns:\n",
    "    find_pearsonr(df_quarterly, column, 'cpi')"
   ]
  },
  {
   "cell_type": "raw",
   "id": "6083bd54-7aac-4e60-9cda-95d816b9ece9",
   "metadata": {},
   "source": [
    ">> FOR QUATERLY DATA ALL THE INDICATORS HAVE A CORRELATION WITH CPI!"
   ]
  },
  {
   "cell_type": "code",
   "execution_count": null,
   "id": "3cfa4952-9105-4501-a6d6-b3d053b76cbe",
   "metadata": {},
   "outputs": [],
   "source": [
    "for column in df_quarterly.columns:\n",
    "    plt.figure(figsize=(16, 8))\n",
    "    plt.title(f\"{column.upper()} vs. CPI\", fontsize=24)\n",
    "    sns.regplot(data=df_quarterly, x = df_quarterly[column], y = df_quarterly['cpi'])\n",
    "    plt.tight_layout()\n",
    "    plt.show()"
   ]
  },
  {
   "cell_type": "code",
   "execution_count": null,
   "id": "4956d59f-5bef-482a-8dcf-06446acf322b",
   "metadata": {},
   "outputs": [],
   "source": [
    "df_quarterly['inflation'] = df_quarterly['cpi'].diff() / df_quarterly['cpi'].shift(1) * 100"
   ]
  },
  {
   "cell_type": "code",
   "execution_count": null,
   "id": "d1730edf-0956-4479-a470-f2da0a608e5c",
   "metadata": {},
   "outputs": [],
   "source": [
    "df_quarterly_2020 = df_quarterly[df_quarterly.index.year >= 2020]"
   ]
  },
  {
   "cell_type": "code",
   "execution_count": null,
   "id": "cccf76bb-2f6c-4f02-9d0b-855b78081a0c",
   "metadata": {},
   "outputs": [],
   "source": [
    "check_inflation(df_quarterly_2020, 'inflation')"
   ]
  },
  {
   "cell_type": "raw",
   "id": "8229f7ec-19f9-4ba7-abd4-c14df062dac6",
   "metadata": {},
   "source": [
    ">> NO INFLATION WHICH IS GREAT!"
   ]
  },
  {
   "cell_type": "code",
   "execution_count": null,
   "id": "317dfc81-a909-45b8-8c3b-79eabcd0677f",
   "metadata": {},
   "outputs": [],
   "source": [
    "df_quarterly_2020.iloc[:, [1,2,4,5,6,7,8,9]].plot(figsize=(16, 8))"
   ]
  },
  {
   "cell_type": "code",
   "execution_count": null,
   "id": "385f945a-6d90-4851-8632-c3a9c62fe1a2",
   "metadata": {},
   "outputs": [],
   "source": [
    "df_quarterly_2020.inflation"
   ]
  },
  {
   "cell_type": "raw",
   "id": "993cc5ab-bef5-41cc-98b7-ff94cd2468ad",
   "metadata": {},
   "source": [
    ">> ONE OF THE MOST WELL-KNOWN THOERY IN ECONOMIC IS THE 'PHILIP CURVE'. LETS EXPLORE IT:"
   ]
  },
  {
   "cell_type": "code",
   "execution_count": null,
   "id": "36e1d35e-3fd0-46eb-b86c-6092e6fd155e",
   "metadata": {},
   "outputs": [],
   "source": [
    "plt.figure(figsize=(16, 8))\n",
    "sns.regplot(y=df_quarterly_2020['inflation'], x=df_quarterly_2020['unemployment_rate'])\n",
    "plt.title(f\"UNEMPLOYMENT VS. INFLATION RATE\", fontsize=24)\n",
    "plt.ylabel('INFLATION')\n",
    "plt.xlabel('UNEMPLOYMENT')\n",
    "plt.tight_layout()\n",
    "plt.show()"
   ]
  },
  {
   "cell_type": "code",
   "execution_count": null,
   "id": "e0993850-cb6b-460f-b11d-043e22a3bb48",
   "metadata": {},
   "outputs": [],
   "source": [
    "df_quarterly_2020.unemployment_rate.plot(figsize=(16, 8))"
   ]
  },
  {
   "cell_type": "code",
   "execution_count": null,
   "id": "115d77ea-83c4-4190-8ceb-351e1703ee6d",
   "metadata": {},
   "outputs": [],
   "source": [
    "df_quarterly_2020['inflation'].rolling(window=3).mean()"
   ]
  },
  {
   "cell_type": "code",
   "execution_count": null,
   "id": "ca06d19a-e3d1-4aad-83a0-b9e5435b0531",
   "metadata": {},
   "outputs": [],
   "source": [
    "df_quarterly_2020"
   ]
  },
  {
   "cell_type": "code",
   "execution_count": null,
   "id": "f1a7ba8e-7b20-4ec6-b771-31ef8492c0bb",
   "metadata": {},
   "outputs": [],
   "source": [
    "quarters = np.array([i for i in range(len(df_quarterly_2020))])\n",
    "inflation_rates = df_quarterly_2020['inflation'].values\n",
    "\n",
    "# Calculate means\n",
    "mean_quarters = np.mean(quarters)\n",
    "mean_inflation = np.mean(inflation_rates)\n",
    "\n",
    "# Calculate numerator and denominator\n",
    "numerator = np.sum((quarters - mean_quarters) * (inflation_rates - mean_inflation))\n",
    "denominator = np.sum((quarters - mean_quarters) ** 2)\n",
    "\n",
    "# Calculate slope (b) and intercept (a)\n",
    "b = numerator / denominator\n",
    "a = mean_inflation - b * mean_quarters\n",
    "\n",
    "# Predict inflation for the next quarter\n",
    "quarter_to_predict1 = len(quarters) + 1\n",
    "quarter_to_predict2 = len(quarters) + 2\n",
    "quarter_to_predict3 = len(quarters) + 3\n",
    "predicted_inflation1 = a + b * quarter_to_predict1\n",
    "predicted_inflation2 = a + b * quarter_to_predict2\n",
    "predicted_inflation3 = a + b * quarter_to_predict3\n",
    "\n",
    "print(\"Predicted inflation for quarter\", quarter_to_predict, \":\", predicted_inflation)"
   ]
  },
  {
   "cell_type": "code",
   "execution_count": null,
   "id": "1c36c6eb-95a4-4395-baf2-449043bcb9dd",
   "metadata": {},
   "outputs": [],
   "source": [
    "def inflation_forecast(data, col):\n",
    "    orders = np.array([i for i in range(len(data))])\n",
    "    rates = data[col].values\n",
    "\n",
    "    # calculate all means\n",
    "    mean_data = np.mean(orders)\n",
    "    mean_inflation = np.mean(rates)\n",
    "\n",
    "    # calculate the numerator and denominator\n",
    "    numerator = np.sum((orders - mean_data) * (rates - mean_inflation))\n",
    "    denominator = np.sum((orders - mean_quarters) ** 2)\n",
    "\n",
    "    # calculate slope b and the intercept a\n",
    "    b = numerator / denominator\n",
    "    a = mean_inflation - b * mean_quarters\n",
    "\n",
    "    y_pred = a + b * (len(orders) + 1)\n",
    "\n",
    "    return y_pred"
   ]
  },
  {
   "cell_type": "code",
   "execution_count": null,
   "id": "7a33476f-7af8-4418-897f-97e4430b6bfd",
   "metadata": {},
   "outputs": [],
   "source": [
    "df_quarterly_2020_inflation = df_quarterly_2020['inflation']"
   ]
  },
  {
   "cell_type": "code",
   "execution_count": null,
   "id": "2df6ac7e-ab6d-43a3-8595-c1fdfd3e6350",
   "metadata": {},
   "outputs": [],
   "source": [
    "df_quarterly_2020['inflation']"
   ]
  },
  {
   "cell_type": "code",
   "execution_count": null,
   "id": "b26f73ff-977c-45a9-8a77-267d58ae870f",
   "metadata": {},
   "outputs": [],
   "source": [
    "predicted_value = [predicted_inflation1, predicted_inflation2, predicted_inflation3]\n",
    "date = pd.date_range(start='2024-06-30', periods=3, freq='QE')"
   ]
  },
  {
   "cell_type": "code",
   "execution_count": null,
   "id": "1cd8df76-ab5a-4c7f-a4de-61438111a75a",
   "metadata": {},
   "outputs": [],
   "source": [
    "predicted = pd.DataFrame(\n",
    "    predicted_value,\n",
    "    date,\n",
    ")"
   ]
  },
  {
   "cell_type": "code",
   "execution_count": null,
   "id": "9b8bdc0f-5ce4-4dcd-b569-608ef4e19944",
   "metadata": {},
   "outputs": [],
   "source": [
    "predicted.columns = ['inflation']"
   ]
  },
  {
   "cell_type": "code",
   "execution_count": null,
   "id": "cf9002fc-0276-41db-94db-756bff7bab80",
   "metadata": {},
   "outputs": [],
   "source": [
    "df_quarterly_2020['inflation'].plot()\n",
    "predicted.plot()"
   ]
  },
  {
   "cell_type": "code",
   "execution_count": null,
   "id": "38405daa-64db-4404-8622-b5f19f43e91e",
   "metadata": {},
   "outputs": [],
   "source": [
    "fig, ax = plt.subplots(1, 1, figsize=(16, 8))\n",
    "\n",
    "sns.lineplot(data=df_quarterly_2020, x=df_quarterly_2020.index, y='inflation', ax=ax)\n",
    "sns.lineplot(data=predicted, x=predicted.index, y='inflation', ax=ax)\n",
    "\n",
    "plt.plot()"
   ]
  },
  {
   "cell_type": "code",
   "execution_count": null,
   "id": "45651570-020c-4930-9654-eded70f5e55f",
   "metadata": {},
   "outputs": [],
   "source": [
    "for column in df_quarterly_2020.columns:\n",
    "    print(column.upper())\n",
    "    print(inflation_forecast(df_quarterly_2020, column))\n",
    "    print('*' * 100)\n",
    "    print()"
   ]
  },
  {
   "cell_type": "raw",
   "id": "fcd56a2b-2209-4139-a4f4-8bbcb3279a61",
   "metadata": {},
   "source": [
    ">> ECI the next quater will be at 167.69\n",
    ">> PRICE DEFLATOR the next quarter will be at 149.31\n",
    ">> OIL PRICE THE NEXT QUARTER will be at 101.35\n",
    ">> PCE the next quarter will be at 20202.56\n",
    ">> PPI the next quarter will be at 285.05\n",
    ">> UNEMPLOYMENT RATE the next quarter will be 1.46\n",
    ">> WAGE GROWTH the next quarter will be at 6.31\n",
    ">> CSI the next quarter will be at 59.61\n",
    ">> CPI the next quarter will be at 320.64"
   ]
  },
  {
   "cell_type": "code",
   "execution_count": null,
   "id": "8760e28c-f77d-4f58-aa63-86b439c49d1b",
   "metadata": {},
   "outputs": [],
   "source": [
    "df_quarterly_2020"
   ]
  },
  {
   "cell_type": "code",
   "execution_count": null,
   "id": "b265ffd3-98c6-496e-bd94-90178f77055a",
   "metadata": {},
   "outputs": [],
   "source": [
    "df_quarterly_2020.iloc[len(df_quarterly_2020)]"
   ]
  },
  {
   "cell_type": "code",
   "execution_count": null,
   "id": "9f012a31-1e3f-41cc-9f29-7ee0efdf4a05",
   "metadata": {},
   "outputs": [],
   "source": [
    "data_next_quarter = {\n",
    "    pd.to_datetime('2024-06-30') : [167.69, 149.31, 101.35, 20202.56, 285.05, 1.46, 6.31, 59.61, 320.64]\n",
    "}\n",
    "\n",
    "new_row = pd.DataFrame(data_next_quarter).transpose()"
   ]
  },
  {
   "cell_type": "code",
   "execution_count": null,
   "id": "75f588ac-d3f7-4ba7-b234-2e8eda5e0819",
   "metadata": {},
   "outputs": [],
   "source": [
    "eci_inflation = df_quarterly_2020['eci'][-1]"
   ]
  },
  {
   "cell_type": "code",
   "execution_count": null,
   "id": "3e100a91-d2b5-407b-af2e-bcdd2aa26d4e",
   "metadata": {},
   "outputs": [],
   "source": [
    "inflation_rate_next_quarter = (eci_inflation) + (0.84 * price_deflator_inflation) + (0.74 * oil_price_inflation) + (0.95 * pce_inflation) +(0.9 * ppi_inflation) - (0.67 * unemployment_inflation) + (0.74 * wage_growth_inflation) - (0.6 * csi_inflation)"
   ]
  },
  {
   "cell_type": "code",
   "execution_count": null,
   "id": "d60623c4-0521-4607-8e7a-cb47e2d3bda4",
   "metadata": {},
   "outputs": [],
   "source": [
    "new_row"
   ]
  },
  {
   "cell_type": "code",
   "execution_count": null,
   "id": "6eaad911-68d1-4ba4-87e6-7565a64fc00b",
   "metadata": {},
   "outputs": [],
   "source": [
    "df_quarterly_2020"
   ]
  },
  {
   "cell_type": "code",
   "execution_count": null,
   "id": "e23b5b31-f19b-4700-9d6e-bd685bc19bdf",
   "metadata": {},
   "outputs": [],
   "source": [
    "new_row"
   ]
  },
  {
   "cell_type": "code",
   "execution_count": null,
   "id": "588a58f9-4637-43cb-b20b-30b6d5aa69ff",
   "metadata": {},
   "outputs": [],
   "source": [
    "(new_row.values - df_quarterly_2020.iloc[-1, [0, 1,2,3,4,5,6,7,8]].values) / df_quarterly_2020.iloc[-1, [0, 1,2,3,4,5,6,7,8]].values * 100"
   ]
  },
  {
   "cell_type": "code",
   "execution_count": null,
   "id": "874470d6-8a13-464e-acd0-0fd5bd5344a5",
   "metadata": {},
   "outputs": [],
   "source": [
    "eci_inflation = 2.31\n",
    "price_deflator_inflation = 7.11\n",
    "oil_price_inflation = 36.95\n",
    "pce_inflation = 6.17\n",
    "ppi_inflation = 13.43\n",
    "unemployment_inflation = -60.54\n",
    "wage_growth_inflation = 32.25\n",
    "csi_inflation = -24.54\n",
    "cpi_inflation = 3.53"
   ]
  },
  {
   "cell_type": "code",
   "execution_count": null,
   "id": "ce73db03-aaf9-4300-9985-3bef2a757ae5",
   "metadata": {},
   "outputs": [],
   "source": [
    "inflation_rate_next_quarter = (eci_inflation) + (0.84 * price_deflator_inflation) + (0.74 * oil_price_inflation) + (0.95 * pce_inflation) +(0.9 * ppi_inflation) - (0.67 * unemployment_inflation) + (0.74 * wage_growth_inflation) - (0.6 * csi_inflation) / 9"
   ]
  },
  {
   "cell_type": "code",
   "execution_count": null,
   "id": "89de91cd-dbfb-4f92-9830-8a8889e5868c",
   "metadata": {},
   "outputs": [],
   "source": [
    "inflation_rate_next_quarter / 100"
   ]
  },
  {
   "cell_type": "code",
   "execution_count": null,
   "id": "145b9893-b687-43af-8bb4-32f0ff3c327c",
   "metadata": {},
   "outputs": [],
   "source": [
    "print(f'Inflation will be {np.round(inflation_rate_next_quarter / 100, 2)}')"
   ]
  },
  {
   "cell_type": "code",
   "execution_count": null,
   "id": "4171ca63-da10-44d1-a552-bda6db7945ba",
   "metadata": {},
   "outputs": [],
   "source": []
  }
 ],
 "metadata": {
  "kernelspec": {
   "display_name": "Python 3 (ipykernel)",
   "language": "python",
   "name": "python3"
  },
  "language_info": {
   "codemirror_mode": {
    "name": "ipython",
    "version": 3
   },
   "file_extension": ".py",
   "mimetype": "text/x-python",
   "name": "python",
   "nbconvert_exporter": "python",
   "pygments_lexer": "ipython3",
   "version": "3.11.5"
  }
 },
 "nbformat": 4,
 "nbformat_minor": 5
}
